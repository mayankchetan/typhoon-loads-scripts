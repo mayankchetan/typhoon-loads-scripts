{
 "cells": [
  {
   "cell_type": "code",
   "execution_count": 2,
   "metadata": {},
   "outputs": [
    {
     "name": "stderr",
     "output_type": "stream",
     "text": [
      "/var/folders/6r/0bmv_2bd2fx38vj0q38h019cv01fld/T/ipykernel_31043/3321884629.py:4: DeprecationWarning: \n",
      "Pyarrow will become a required dependency of pandas in the next major release of pandas (pandas 3.0),\n",
      "(to allow more performant data types, such as the Arrow string type, and better interoperability with other libraries)\n",
      "but was not found to be installed on your system.\n",
      "If this would cause problems for you,\n",
      "please provide us feedback at https://github.com/pandas-dev/pandas/issues/54466\n",
      "        \n",
      "  import pandas as pd\n"
     ]
    }
   ],
   "source": [
    "# This is a notebook to test parsing the text output from OpenFAST stdout and stderr files\n",
    "\n",
    "import os\n",
    "import pandas as pd\n",
    "import numpy as np\n",
    "import matplotlib.pyplot as plt\n",
    "\n",
    "import re"
   ]
  },
  {
   "cell_type": "code",
   "execution_count": 13,
   "metadata": {},
   "outputs": [],
   "source": [
    "# path to one OpenFAST stdout file\n",
    "\n",
    "ofPath_killed = 'eagleData/23JAN24/steady/storm-test_00.fst.stdOut'\n",
    "ofPath_success = 'eagleData/23JAN24/steady/storm-test_01.fst.stdOut'\n",
    "ofPath_fail = 'eagleData/23JAN24/unsteady/storm-test_00.fst.stdOut'\n",
    "\n"
   ]
  },
  {
   "cell_type": "code",
   "execution_count": 42,
   "metadata": {},
   "outputs": [
    {
     "name": "stdout",
     "output_type": "stream",
     "text": [
      "OpenFAST killed externally\n"
     ]
    }
   ],
   "source": [
    "# Find if openfast successfully ran by looking for the \"OpenFAST terminated normally\" line. \n",
    "\n",
    "ofPath = ofPath_killed\n",
    "\n",
    "# read the file into a list of strings\n",
    "with open(ofPath, 'r') as file:\n",
    "    ofLines = file.readlines()\n",
    "\n",
    "# clean up the lines by removing leading and trailing whitespace and empty lines\n",
    "ofLines = [line.strip() for line in ofLines]\n",
    "ofLines = [line for line in ofLines if line]\n",
    "\n",
    "# state flag for the status of the OpenFAST run\n",
    "status = None # default status, we don't know yet\n",
    "\n",
    "# Lets start from the end of the file and work our way up\n",
    "for line in ofLines[-4:]:\n",
    "\n",
    "    if \"OpenFAST terminated normally\" in line:\n",
    "        print(\"OpenFAST terminated normally\")\n",
    "        status = 1 # success\n",
    "        break\n",
    "\n",
    "    if \"Aborting OpenFAST\" in line:\n",
    "        print(\"OpenFAST failed\")\n",
    "        status = -1 # fail\n",
    "        break\n",
    "\n",
    "    if \"Estimated final completion\" in line:\n",
    "        print(\"OpenFAST killed externally\")\n",
    "        status = 0 # killed\n",
    "        break\n",
    "\n"
   ]
  },
  {
   "cell_type": "code",
   "execution_count": 37,
   "metadata": {},
   "outputs": [
    {
     "data": {
      "text/plain": [
       "['FAST_Solution_T:Solver_Step:FAST_CalcOutput:AD_CalcOutput:RotCalcOutput:BEMT_CalcOutput(node 50,',\n",
       " 'blade 3):UA_CalcOutput:Mach number exceeds 1.0. Equations cannot be evaluated.',\n",
       " '\\x07 OpenFAST encountered an error at simulation time 88.245 of 720 seconds.',\n",
       " 'Simulation error level: FATAL ERROR',\n",
       " 'Aborting OpenFAST.']"
      ]
     },
     "execution_count": 37,
     "metadata": {},
     "output_type": "execute_result"
    }
   ],
   "source": [
    "ofLines[-5:]"
   ]
  },
  {
   "cell_type": "code",
   "execution_count": null,
   "metadata": {},
   "outputs": [],
   "source": []
  }
 ],
 "metadata": {
  "kernelspec": {
   "display_name": "Python 3",
   "language": "python",
   "name": "python3"
  },
  "language_info": {
   "codemirror_mode": {
    "name": "ipython",
    "version": 3
   },
   "file_extension": ".py",
   "mimetype": "text/x-python",
   "name": "python",
   "nbconvert_exporter": "python",
   "pygments_lexer": "ipython3",
   "version": "3.11.7"
  }
 },
 "nbformat": 4,
 "nbformat_minor": 2
}
